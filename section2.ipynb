{
 "cells": [
  {
   "cell_type": "code",
   "execution_count": null,
   "metadata": {},
   "outputs": [],
   "source": []
  },
  {
   "attachments": {},
   "cell_type": "markdown",
   "metadata": {},
   "source": [
    "# パーセプトロンについて\n",
    "二章ではパーセプトロンについて扱っている．概要を述べたうえで，実装についてまとめる．\n",
    "\n",
    "パーセプトロン入力値に応じて，出力(0か1)を出力するものである．\n",
    "\n",
    "具体的には，入力値に重みをかけて足し合わせたものが閾値を超えたら1を出力し，そうでなければ0を出力する．\n",
    "\n",
    "入力$x_i$, 重み$w_i$, 閾値$\\theta$を用いて，$y = 0$か$1$を出力する．\n",
    "\n",
    "$$ y = \\left\\{ \\begin{array}{ll} 0 & (w_1x_1 + w_2x_2 + \\cdots + w_nx_n \\leq \\theta) \\\\ 1 & (w_1x_1 + w_2x_2 + \\cdots + w_nx_n > \\theta) \\end{array} \\right. $$\n",
    "\n",
    "今回は簡単に2入力の場合のみを考える．すると以下の通り．\n",
    "\n",
    "$$ y = \\left\\{ \\begin{array}{ll} 0 & (w_1x_1 + w_2x_2 \\leq \\theta) \\\\ 1 & (w_1x_1 + w_2x_2 > \\theta) \\end{array} \\right. $$"
   ]
  },
  {
   "attachments": {},
   "cell_type": "markdown",
   "metadata": {},
   "source": [
    "実際の実装では，$-\\theta$をバイアス$b$として，以下のように扱うことが多い．\n",
    "$$ y = \\left\\{ \\begin{array}{ll} 0 & (w_1x_1 + w_2x_2 + b \\leq 0) \\\\ 1 & (w_1x_1 + w_2x_2 + b > 0) \\end{array} \\right. $$"
   ]
  },
  {
   "attachments": {},
   "cell_type": "markdown",
   "metadata": {},
   "source": [
    "## 論理回路を考えてみる\n",
    "先ほどのニューロンを用いて，論理回路を実装してみよう．\n",
    "### ANDゲート\n",
    "入力が両方とも1の時のみ1を出力する．"
   ]
  },
  {
   "cell_type": "code",
   "execution_count": 4,
   "metadata": {},
   "outputs": [
    {
     "name": "stdout",
     "output_type": "stream",
     "text": [
      "0\n",
      "0\n",
      "0\n",
      "1\n"
     ]
    }
   ],
   "source": [
    "import numpy as np\n",
    "def AND (x1,x2):\n",
    "    x=np.array([x1,x2])\n",
    "    w=np.array([0.5,0.5])#w1,w2がともに0.5\n",
    "    b=-0.7# bias\n",
    "    tmp=np.sum(x*w)+b # x*wは各成分の乗算，np.sumは各成分の総和\n",
    "    if tmp<=0:\n",
    "        return 0\n",
    "    else:\n",
    "        return 1\n",
    "\n",
    "print(AND(0,0))\n",
    "print(AND(0,1))\n",
    "print(AND(1,0))\n",
    "print(AND(1,1))"
   ]
  },
  {
   "attachments": {},
   "cell_type": "markdown",
   "metadata": {},
   "source": [
    "上のコードでは，配列の積を用いて，x1*w1,x2*w2を配列に格納したうえで，sumメソッドを用いて総和を計算している．\n",
    "\n",
    "注意: バイアスは-0.7としているが，実際には-0.5より大きく，-1.0より小さい値を用いればよい．\n",
    "\n",
    "## ORゲート\n",
    "入力がどちらかが1の時に1を出力する．"
   ]
  },
  {
   "cell_type": "code",
   "execution_count": 2,
   "metadata": {},
   "outputs": [
    {
     "name": "stdout",
     "output_type": "stream",
     "text": [
      "0\n",
      "1\n",
      "1\n",
      "1\n"
     ]
    }
   ],
   "source": [
    "import numpy as np\n",
    "def OR (x1,x2):\n",
    "    x=np.array([x1,x2])\n",
    "    w=np.array([0.5,0.5])#w1,w2がともに0.5\n",
    "    b=-0.2# bias\n",
    "    tmp=np.sum(x*w)+b # x*wは各成分の乗算，np.sumは各成分の総和\n",
    "    if tmp<=0:\n",
    "        return 0\n",
    "    else:\n",
    "        return 1\n",
    "print(OR(0,0))\n",
    "print(OR(0,1))\n",
    "print(OR(1,0))\n",
    "print(OR(1,1))"
   ]
  },
  {
   "attachments": {},
   "cell_type": "markdown",
   "metadata": {},
   "source": [
    "## NANDゲート\n",
    "ANDの出力を反転させたもの．つまり，入力が両方とも1の時に0を出力する．"
   ]
  },
  {
   "cell_type": "code",
   "execution_count": 10,
   "metadata": {},
   "outputs": [
    {
     "name": "stdout",
     "output_type": "stream",
     "text": [
      "1\n",
      "1\n",
      "1\n",
      "0\n"
     ]
    }
   ],
   "source": [
    "import numpy as np\n",
    "def NAND (x1,x2):\n",
    "    x=np.array([x1,x2])\n",
    "    w=np.array([-0.5,-0.5])#w1,w2がともに0.5\n",
    "    b=0.7# bias\n",
    "    tmp=np.sum(x*w)+b # x*wは各成分の乗算，np.sumは各成分の総和\n",
    "    if tmp<=0:\n",
    "        return 0\n",
    "    else:\n",
    "        return 1\n",
    "\n",
    "print(NAND(0,0))\n",
    "print(NAND(0,1))\n",
    "print(NAND(1,0))\n",
    "print(NAND(1,1))"
   ]
  },
  {
   "attachments": {},
   "cell_type": "markdown",
   "metadata": {},
   "source": [
    "## パーセプトロンの限界\n",
    "パーセプトロンにも限界がある．例えばXOR回路は一つのパーセプトロンでは表現できない．\n",
    "しかし複数のパーセプトロンを組み合わせることで，XOR回路を表現できる．\n",
    "XOR回路はどちらか片方が1の時に1を出力する．"
   ]
  },
  {
   "attachments": {},
   "cell_type": "markdown",
   "metadata": {},
   "source": [
    "## XORゲートの実装\n",
    "XORゲートは，NANDとORの出力をANDで結合することで実現できる．"
   ]
  },
  {
   "cell_type": "code",
   "execution_count": 12,
   "metadata": {},
   "outputs": [
    {
     "name": "stdout",
     "output_type": "stream",
     "text": [
      "0\n",
      "1\n",
      "1\n",
      "0\n"
     ]
    }
   ],
   "source": [
    "def XOR(x1,x2):\n",
    "    s1=NAND(x1,x2)\n",
    "    s2=OR(x1,x2)\n",
    "    y=AND(s1,s2)\n",
    "    return y\n",
    "print(XOR(0,0))\n",
    "print(XOR(0,1))\n",
    "print(XOR(1,0))\n",
    "print(XOR(1,1))\n"
   ]
  },
  {
   "attachments": {},
   "cell_type": "markdown",
   "metadata": {},
   "source": [
    "一層のパーセプトロンでは線形領域しか表現できないが，多層のパーセプトロンでは非線形領域も表現できる．"
   ]
  }
 ],
 "metadata": {
  "kernelspec": {
   "display_name": "base",
   "language": "python",
   "name": "python3"
  },
  "language_info": {
   "codemirror_mode": {
    "name": "ipython",
    "version": 3
   },
   "file_extension": ".py",
   "mimetype": "text/x-python",
   "name": "python",
   "nbconvert_exporter": "python",
   "pygments_lexer": "ipython3",
   "version": "3.9.12"
  },
  "orig_nbformat": 4
 },
 "nbformat": 4,
 "nbformat_minor": 2
}
