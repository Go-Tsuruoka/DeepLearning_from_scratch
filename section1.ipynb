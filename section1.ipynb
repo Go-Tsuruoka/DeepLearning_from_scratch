{
 "cells": [
  {
   "attachments": {},
   "cell_type": "markdown",
   "metadata": {},
   "source": [
    "## Numpyの基礎\n",
    "Numpyを扱うにあたって，基本的な操作事項，注意点をまとめた．"
   ]
  },
  {
   "attachments": {},
   "cell_type": "markdown",
   "metadata": {},
   "source": [
    "## Numpyの行列の作成\n",
    "Numpyの行列は，`np.array()`を使って作成する．\n",
    "多次元配列を作成することもできる．"
   ]
  },
  {
   "cell_type": "code",
   "execution_count": 7,
   "metadata": {},
   "outputs": [
    {
     "name": "stdout",
     "output_type": "stream",
     "text": [
      "[1 2]\n",
      "[[51 55]\n",
      " [14 19]\n",
      " [ 0  4]]\n"
     ]
    }
   ],
   "source": [
    "import numpy as np\n",
    "x = np.array([1,2])\n",
    "print(x)\n",
    "y =np.array([[51,55],[14,19],[0,4]])\n",
    "print(y)"
   ]
  },
  {
   "attachments": {},
   "cell_type": "markdown",
   "metadata": {},
   "source": [
    "配列サイズを知りたい場合はshapeメソッドを使う．"
   ]
  },
  {
   "cell_type": "code",
   "execution_count": 10,
   "metadata": {},
   "outputs": [
    {
     "name": "stdout",
     "output_type": "stream",
     "text": [
      "(2,)\n",
      "(3, 2)\n",
      "(2, 1)\n"
     ]
    }
   ],
   "source": [
    "print(x.shape)\n",
    "print(y.shape)\n",
    "print(np.array([[1],[2]]).shape)"
   ]
  },
  {
   "attachments": {},
   "cell_type": "markdown",
   "metadata": {},
   "source": [
    "## numpyの演算\n",
    "配列の演算は，要素ごとに行われる．特に掛け算の場合，内積ではなく，要素ごとの積になる点に留意する必要がある．\n"
   ]
  },
  {
   "cell_type": "code",
   "execution_count": 2,
   "metadata": {},
   "outputs": [
    {
     "name": "stdout",
     "output_type": "stream",
     "text": [
      "[ 2.  5.  7.  9. 12.]\n",
      "[ 0. -1. -1. -1. -2.]\n",
      "[ 1.  6. 12. 20. 35.]\n",
      "[1.         0.66666667 0.75       0.8        0.71428571]\n"
     ]
    }
   ],
   "source": [
    "import numpy as np\n",
    "x=np.array([1,2,3,4,5.0])\n",
    "y=np.array([1,3,4,5,7])\n",
    "print(x+y)\n",
    "print(x-y)\n",
    "print(x*y)\n",
    "print(x/y)"
   ]
  },
  {
   "attachments": {},
   "cell_type": "markdown",
   "metadata": {},
   "source": [
    "また，配列が異なると(原則)エラーを返すが，配列とスカラーの演算は，スカラーを配列の各要素に適用したものとして扱われる．\n",
    "\n",
    "エラー等も出ないので注意．"
   ]
  },
  {
   "cell_type": "code",
   "execution_count": 5,
   "metadata": {},
   "outputs": [
    {
     "name": "stdout",
     "output_type": "stream",
     "text": [
      "[2 3]\n",
      "[0.5 1. ]\n"
     ]
    }
   ],
   "source": [
    "x = np.array([1,2])\n",
    "print(x+1)#各要素に1を足す\n",
    "\n",
    "print(x/2)# 各要素を2で割る"
   ]
  },
  {
   "attachments": {},
   "cell_type": "markdown",
   "metadata": {},
   "source": [
    "実は，配列と配列の演算においても，先ほどの行列とスカラーの演算と同じように，配列のサイズが異なる場合は，サイズが小さい方の配列を繰り返し適用することができる．(ブロードキャストという)"
   ]
  },
  {
   "cell_type": "code",
   "execution_count": 11,
   "metadata": {},
   "outputs": [
    {
     "name": "stdout",
     "output_type": "stream",
     "text": [
      "[[10 40]\n",
      " [30 80]]\n"
     ]
    }
   ],
   "source": [
    "x = np.array([[1,2],[3,4]])\n",
    "y = np.array([10,20])\n",
    "print(x*y)"
   ]
  },
  {
   "attachments": {},
   "cell_type": "markdown",
   "metadata": {},
   "source": [
    "上の例の場合は，xの各行において，[10,20]との間での各要素の積を計算する\n",
    "\n",
    "具体的には\n",
    "\n",
    "- [1,2]と[10,20]の間での各要素の積は[10,40]\n",
    "- [3,4]と[10,20]の間での各要素の積は[30,80]\n",
    "- これらがxの各行に対応する\n",
    "\n",
    "今回は積の場合の例を示したが，その他の演算についても同様．例えば加算の場合以下の通り．"
   ]
  },
  {
   "cell_type": "code",
   "execution_count": 12,
   "metadata": {},
   "outputs": [
    {
     "name": "stdout",
     "output_type": "stream",
     "text": [
      "[[11 22]\n",
      " [13 24]]\n"
     ]
    }
   ],
   "source": [
    "x = np.array([[1,2],[3,4]])\n",
    "y = np.array([10,20])\n",
    "print(x+y)"
   ]
  },
  {
   "attachments": {},
   "cell_type": "markdown",
   "metadata": {},
   "source": [
    "## 配列のアクセス\n",
    "配列のアクセスについては，通常のリストと同じように行うことが可能である．"
   ]
  },
  {
   "cell_type": "code",
   "execution_count": 14,
   "metadata": {},
   "outputs": [
    {
     "name": "stdout",
     "output_type": "stream",
     "text": [
      "2\n"
     ]
    }
   ],
   "source": [
    "x = np.array([0,1,2,3,4])\n",
    "print(x[2])"
   ]
  }
 ],
 "metadata": {
  "kernelspec": {
   "display_name": "Python 3",
   "language": "python",
   "name": "python3"
  },
  "language_info": {
   "codemirror_mode": {
    "name": "ipython",
    "version": 3
   },
   "file_extension": ".py",
   "mimetype": "text/x-python",
   "name": "python",
   "nbconvert_exporter": "python",
   "pygments_lexer": "ipython3",
   "version": "3.9.12"
  },
  "orig_nbformat": 4
 },
 "nbformat": 4,
 "nbformat_minor": 2
}
